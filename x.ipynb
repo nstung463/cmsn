{
 "cells": [
  {
   "cell_type": "code",
   "execution_count": 1,
   "metadata": {},
   "outputs": [
    {
     "name": "stdout",
     "output_type": "stream",
     "text": [
      "['img_10a.jpg', 'img_10b.jpg', 'img_10c.jpg', 'img_10d.jpg', 'img_11a.jpg', 'img_11b.jpg', 'img_11c.jpg', 'img_11d.jpg', 'img_12a.jpg', 'img_12b.jpg', 'img_12c.jpg', 'img_12d.jpg', 'img_13a.jpg', 'img_13b.jpg', 'img_13c.jpg', 'img_13d.jpg', 'img_14a.jpg', 'img_14b.jpg', 'img_15a.jpg', 'img_15b.jpg', 'img_15c.jpg', 'img_15d.jpg', 'img_15e.jpg', 'img_16a.jpg', 'img_16b.jpg', 'img_1a.jpg', 'img_1b.jpg', 'img_1c.jpg', 'img_1d.jpg', 'img_2a.jpg', 'img_2b.jpg', 'img_2c.jpg', 'img_2d.jpg', 'img_2e.jpg', 'img_3a.jpg', 'img_3b.jpg', 'img_3c.jpg', 'img_3d.jpg', 'img_4a.jpg', 'img_4b.jpg', 'img_4c.jpg', 'img_5a.jpg', 'img_5b.jpg', 'img_5c.jpg', 'img_5d.jpg', 'img_5e.jpg', 'img_6a.jpg', 'img_6b.jpg', 'img_6c.jpg', 'img_7a.jpg', 'img_7b.jpg', 'img_8a.jpg', 'img_8b.jpg', 'img_8c.jpg', 'img_8d.jpg', 'img_9a.jpg', 'img_9b.jpg', 'ngoc-anh.jpg', 'x1.jpg', 'x10.jpg', 'x11.jpg', 'x12.jpg', 'x13.jpg', 'x14.jpg', 'x15.jpg', 'x16.jpg', 'x17.jpg', 'x18.jpg', 'x2.jpg', 'x3.jpg', 'x4.jpg', 'x5.jpg', 'x6.jpg', 'x7.jpg', 'x8.jpg', 'x9.jpg', 'z6717785272690_b9867e12e56e22a5ec33a803fb4ed4ce.jpg', 'z6717785272690_b9867e12e56e22a5ec33a803fb4ed4w.jpg', 'z6717785445130_ffae720365ea1f353637db65f3a381e6.jpg']\n"
     ]
    }
   ],
   "source": [
    "import os\n",
    "x = [x for x in os.listdir(\"./images\") if x.endswith(\".jpg\")]\n",
    "print(x)"
   ]
  },
  {
   "cell_type": "code",
   "execution_count": null,
   "metadata": {},
   "outputs": [],
   "source": []
  }
 ],
 "metadata": {
  "kernelspec": {
   "display_name": "ai-agent",
   "language": "python",
   "name": "python3"
  },
  "language_info": {
   "codemirror_mode": {
    "name": "ipython",
    "version": 3
   },
   "file_extension": ".py",
   "mimetype": "text/x-python",
   "name": "python",
   "nbconvert_exporter": "python",
   "pygments_lexer": "ipython3",
   "version": "3.12.10"
  }
 },
 "nbformat": 4,
 "nbformat_minor": 2
}
